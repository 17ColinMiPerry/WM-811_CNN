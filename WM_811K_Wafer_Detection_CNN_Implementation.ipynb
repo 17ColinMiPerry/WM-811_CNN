{
  "nbformat": 4,
  "nbformat_minor": 0,
  "metadata": {
    "colab": {
      "provenance": []
    },
    "kernelspec": {
      "name": "python3",
      "display_name": "Python 3"
    },
    "language_info": {
      "name": "python"
    }
  },
  "cells": [
    {
      "cell_type": "code",
      "source": [
        "import pickle\n",
        "import pandas as pd\n",
        "import numpy as np\n",
        "import matplotlib.pyplot as plt\n",
        "import torch\n",
        "from torch.utils.data import random_split, DataLoader"
      ],
      "metadata": {
        "id": "BI__h7B8iVra"
      },
      "execution_count": 240,
      "outputs": []
    },
    {
      "cell_type": "code",
      "execution_count": 16,
      "metadata": {
        "colab": {
          "base_uri": "https://localhost:8080/"
        },
        "id": "yHdgym-hhh0f",
        "outputId": "91d35335-a0a0-40a7-8b16-ba6c1a32c434"
      },
      "outputs": [
        {
          "output_type": "stream",
          "name": "stdout",
          "text": [
            "Path to dataset files: /root/.cache/kagglehub/datasets/qingyi/wm811k-wafer-map/versions/1\n"
          ]
        }
      ],
      "source": [
        "import kagglehub\n",
        "\n",
        "# Download latest version\n",
        "path = kagglehub.dataset_download(\"qingyi/wm811k-wafer-map\")\n",
        "\n",
        "print(\"Path to dataset files:\", path)"
      ]
    },
    {
      "cell_type": "code",
      "source": [
        "with open('/root/.cache/kagglehub/datasets/qingyi/wm811k-wafer-map/versions/1/LSWMD.pkl', 'rb') as f:\n",
        "    raw_data = pd.read_pickle(f)\n",
        "\n",
        "print(raw_data)"
      ],
      "metadata": {
        "colab": {
          "base_uri": "https://localhost:8080/"
        },
        "id": "aHK2Ko2MlAyE",
        "outputId": "d2f6343c-ceb7-4b88-88fe-34bc71c95c31"
      },
      "execution_count": 34,
      "outputs": [
        {
          "output_type": "stream",
          "name": "stdout",
          "text": [
            "                                                 waferMap  dieSize   lotName  \\\n",
            "0       [[0, 0, 0, 0, 0, 0, 0, 0, 0, 0, 0, 0, 0, 0, 0,...   1683.0      lot1   \n",
            "1       [[0, 0, 0, 0, 0, 0, 0, 0, 0, 0, 0, 0, 0, 0, 0,...   1683.0      lot1   \n",
            "2       [[0, 0, 0, 0, 0, 0, 0, 0, 0, 0, 0, 0, 0, 0, 0,...   1683.0      lot1   \n",
            "3       [[0, 0, 0, 0, 0, 0, 0, 0, 0, 0, 0, 0, 0, 0, 0,...   1683.0      lot1   \n",
            "4       [[0, 0, 0, 0, 0, 0, 0, 0, 0, 0, 0, 0, 0, 0, 0,...   1683.0      lot1   \n",
            "...                                                   ...      ...       ...   \n",
            "811452  [[0, 0, 0, 0, 0, 0, 0, 0, 0, 0, 0, 1, 2, 1, 1,...    600.0  lot47542   \n",
            "811453  [[0, 0, 0, 0, 0, 0, 0, 0, 0, 0, 0, 2, 2, 1, 1,...    600.0  lot47542   \n",
            "811454  [[0, 0, 0, 0, 0, 0, 0, 0, 0, 0, 0, 1, 2, 1, 1,...    600.0  lot47542   \n",
            "811455  [[0, 0, 0, 0, 0, 0, 0, 0, 0, 0, 0, 1, 1, 1, 1,...    600.0  lot47543   \n",
            "811456  [[0, 0, 0, 0, 0, 0, 0, 0, 0, 0, 0, 1, 2, 1, 1,...    600.0  lot47543   \n",
            "\n",
            "        waferIndex trianTestLabel    failureType  \n",
            "0              1.0   [[Training]]       [[none]]  \n",
            "1              2.0   [[Training]]       [[none]]  \n",
            "2              3.0   [[Training]]       [[none]]  \n",
            "3              4.0   [[Training]]       [[none]]  \n",
            "4              5.0   [[Training]]       [[none]]  \n",
            "...            ...            ...            ...  \n",
            "811452        23.0       [[Test]]  [[Edge-Ring]]  \n",
            "811453        24.0       [[Test]]   [[Edge-Loc]]  \n",
            "811454        25.0       [[Test]]  [[Edge-Ring]]  \n",
            "811455         1.0             []             []  \n",
            "811456         2.0             []             []  \n",
            "\n",
            "[811457 rows x 6 columns]\n"
          ]
        }
      ]
    },
    {
      "cell_type": "code",
      "source": [
        "raw_data.rename(columns={'trianTestLabel': 'trainTestLabel'}, inplace=True)\n",
        "wafer_data = raw_data[raw_data['trainTestLabel'].str.len() != 0]\n",
        "\n",
        "columns_to_drop = ['dieSize','lotName','waferIndex','trainTestLabel']\n",
        "\n",
        "wafer_data = wafer_data.drop(columns = columns_to_drop)\n",
        "print(wafer_data)"
      ],
      "metadata": {
        "colab": {
          "base_uri": "https://localhost:8080/"
        },
        "id": "mJ4gplD-nhKE",
        "outputId": "7bfd677e-93a7-4627-cb9b-584074a57e60"
      },
      "execution_count": 232,
      "outputs": [
        {
          "output_type": "stream",
          "name": "stdout",
          "text": [
            "                                                 waferMap    failureType\n",
            "0       [[0, 0, 0, 0, 0, 0, 0, 0, 0, 0, 0, 0, 0, 0, 0,...       [[none]]\n",
            "1       [[0, 0, 0, 0, 0, 0, 0, 0, 0, 0, 0, 0, 0, 0, 0,...       [[none]]\n",
            "2       [[0, 0, 0, 0, 0, 0, 0, 0, 0, 0, 0, 0, 0, 0, 0,...       [[none]]\n",
            "3       [[0, 0, 0, 0, 0, 0, 0, 0, 0, 0, 0, 0, 0, 0, 0,...       [[none]]\n",
            "4       [[0, 0, 0, 0, 0, 0, 0, 0, 0, 0, 0, 0, 0, 0, 0,...       [[none]]\n",
            "...                                                   ...            ...\n",
            "811450  [[0, 0, 0, 0, 0, 0, 0, 0, 0, 0, 0, 1, 2, 1, 2,...   [[Edge-Loc]]\n",
            "811451  [[0, 0, 0, 0, 0, 0, 0, 0, 0, 0, 0, 1, 1, 1, 1,...   [[Edge-Loc]]\n",
            "811452  [[0, 0, 0, 0, 0, 0, 0, 0, 0, 0, 0, 1, 2, 1, 1,...  [[Edge-Ring]]\n",
            "811453  [[0, 0, 0, 0, 0, 0, 0, 0, 0, 0, 0, 2, 2, 1, 1,...   [[Edge-Loc]]\n",
            "811454  [[0, 0, 0, 0, 0, 0, 0, 0, 0, 0, 0, 1, 2, 1, 1,...  [[Edge-Ring]]\n",
            "\n",
            "[172950 rows x 2 columns]\n"
          ]
        }
      ]
    },
    {
      "cell_type": "code",
      "source": [
        "defect_classes = ['Center', 'Donut', 'Edge-Loc', 'Edge-Ring', 'Loc', 'Near-full', 'Random', 'Scratch', 'none']\n",
        "num_classes = len(defect_classes)"
      ],
      "metadata": {
        "id": "KKNYYahArHH8"
      },
      "execution_count": 233,
      "outputs": []
    },
    {
      "cell_type": "code",
      "source": [
        "print(type(wafer_data.iloc[0]['waferMap']))\n",
        "printWaferMap(wafer_data.iloc[10000])"
      ],
      "metadata": {
        "colab": {
          "base_uri": "https://localhost:8080/",
          "height": 495
        },
        "id": "XxT2RuHztRaF",
        "outputId": "99f12252-9baf-4bde-f5c6-98ef388ec427"
      },
      "execution_count": 234,
      "outputs": [
        {
          "output_type": "stream",
          "name": "stdout",
          "text": [
            "<class 'numpy.ndarray'>\n"
          ]
        },
        {
          "output_type": "display_data",
          "data": {
            "text/plain": [
              "<Figure size 640x480 with 1 Axes>"
            ],
            "image/png": "[encoded data removed]"
          },
          "metadata": {}
        }
      ]
    },
    {
      "cell_type": "code",
      "source": [
        "# Print class distribution\n",
        "describeWaferData(wafer_data, defect_classes)"
      ],
      "metadata": {
        "colab": {
          "base_uri": "https://localhost:8080/"
        },
        "id": "rE9Wy9JT1iWM",
        "outputId": "e2ff4f54-b01a-4e50-d8fb-a43629d144ba"
      },
      "execution_count": 235,
      "outputs": [
        {
          "output_type": "stream",
          "name": "stdout",
          "text": [
            "Center: 4294\n",
            "Donut: 555\n",
            "Edge-Loc: 5189\n",
            "Edge-Ring: 9680\n",
            "Loc: 3593\n",
            "Near-full: 149\n",
            "Random: 866\n",
            "Scratch: 1193\n",
            "none: 147431\n"
          ]
        }
      ]
    },
    {
      "cell_type": "code",
      "source": [
        "for defect_type in defect_classes:\n",
        "  if defect_type == 'none':\n",
        "    break\n",
        "  print(defect_type)\n",
        "  augmentation = pd.DataFrame(oversampleData(wafer_data, defect_type))\n",
        "  wafer_data = pd.concat([wafer_data.reset_index(drop=True), pd.DataFrame(augmentation).reset_index(drop=True)], ignore_index=True)"
      ],
      "metadata": {
        "colab": {
          "base_uri": "https://localhost:8080/"
        },
        "collapsed": true,
        "id": "rOwGWapOC6BX",
        "outputId": "c72038bf-dcb3-4bc0-c4d3-5fb9cc23a356"
      },
      "execution_count": 238,
      "outputs": [
        {
          "output_type": "stream",
          "name": "stdout",
          "text": [
            "Center\n",
            "Donut\n",
            "Edge-Loc\n",
            "Edge-Ring\n",
            "Loc\n",
            "Near-full\n",
            "Random\n",
            "Scratch\n"
          ]
        }
      ]
    },
    {
      "cell_type": "code",
      "source": [
        "# Assess Data Augmentation\n",
        "describeWaferData(wafer_data, defect_classes)"
      ],
      "metadata": {
        "colab": {
          "base_uri": "https://localhost:8080/"
        },
        "id": "MRR5UL5KI9OC",
        "outputId": "1ca5b730-7d55-4b7e-a40d-74f6d9158009"
      },
      "execution_count": 239,
      "outputs": [
        {
          "output_type": "stream",
          "name": "stdout",
          "text": [
            "Center: 25764\n",
            "Donut: 3330\n",
            "Edge-Loc: 31134\n",
            "Edge-Ring: 58080\n",
            "Loc: 21558\n",
            "Near-full: 894\n",
            "Random: 5196\n",
            "Scratch: 7158\n",
            "none: 147431\n"
          ]
        }
      ]
    },
    {
      "cell_type": "code",
      "source": [
        "train_size = int(0.8 * len(wafer_data))\n",
        "val_size = int(0.1 * len(wafer_data))\n",
        "test_size = len(wafer_data) - train_size - val_size\n",
        "\n",
        "train_dataset, val_dataset, test_dataset = random_split(wafer_data, [train_size, val_size, test_size])"
      ],
      "metadata": {
        "id": "gW6JG4ZCbJci"
      },
      "execution_count": 247,
      "outputs": []
    },
    {
      "cell_type": "code",
      "source": [
        "# This cell is where I will be implementing the convnet"
      ],
      "metadata": {
        "id": "-mH9YBCmfxph"
      },
      "execution_count": 248,
      "outputs": []
    },
    {
      "cell_type": "code",
      "source": [
        "def oversampleData(wafers, defect_type):\n",
        "  temp_df = wafers.copy()\n",
        "  temp_df.drop(temp_df.index, inplace = True)\n",
        "  for index, rows in wafers.loc[wafers['failureType'] == defect_type].iterrows():\n",
        "    temp_wafer_ud = rows\n",
        "    temp_wafer_ud['waferMap'] = np.flip(temp_wafer_ud['waferMap'], 0)\n",
        "    temp_df.loc[len(temp_df)] = temp_wafer_ud\n",
        "\n",
        "    temp_wafer_lr = rows\n",
        "    temp_wafer_lr['waferMap'] = np.flip(temp_wafer_lr['waferMap'], 0)\n",
        "    temp_df.loc[len(temp_df)] = temp_wafer_lr\n",
        "\n",
        "    temp_wafer_90 = rows\n",
        "    temp_wafer_90['waferMap'] = np.rot90(temp_wafer_90['waferMap'], 1)\n",
        "    temp_df.loc[len(temp_df)] = temp_wafer_90\n",
        "\n",
        "    temp_wafer_180 = rows\n",
        "    temp_wafer_180['waferMap'] = np.rot90(temp_wafer_180['waferMap'], 1)\n",
        "    temp_df.loc[len(temp_df)] = temp_wafer_180\n",
        "\n",
        "    temp_wafer_270 = rows\n",
        "    temp_wafer_270['waferMap'] = np.rot90(temp_wafer_270['waferMap'], 1)\n",
        "    temp_df.loc[len(temp_df)] = temp_wafer_270\n",
        "\n",
        "  return temp_df\n",
        "  pass"
      ],
      "metadata": {
        "id": "YmfGJ96N3F3J"
      },
      "execution_count": 237,
      "outputs": []
    },
    {
      "cell_type": "code",
      "source": [
        "def describeWaferData(wafer_data, classes):\n",
        "  for classType in classes:\n",
        "    count = (wafer_data['failureType'] == classType).sum()\n",
        "    print(classType + \": \" + str(count))"
      ],
      "metadata": {
        "id": "lQr9awiVu8Lc"
      },
      "execution_count": 122,
      "outputs": []
    },
    {
      "cell_type": "code",
      "source": [
        "def printWaferMap(wafer, prediction = \"\"):\n",
        "  # Generate a plot using the binary colormap\n",
        "  # Wafer area is indicated by grey, defects are indicated in black\n",
        "  wafer_map = wafer['waferMap']\n",
        "  plt.imshow(wafer_map, cmap='binary', interpolation='nearest')\n",
        "\n",
        "  plt.suptitle(\"Labeled Defect: \" + str(wafer['failureType'][0][0]))\n",
        "\n",
        "  plt.show()\n",
        "  pass"
      ],
      "metadata": {
        "id": "_1eIIENdtqXH"
      },
      "execution_count": 105,
      "outputs": []
    }
  ]
}